{
  "cells": [
    {
      "cell_type": "markdown",
      "metadata": {
        "colab_type": "text",
        "id": "view-in-github"
      },
      "source": [
        "<a href=\"https://colab.research.google.com/github/tgalkovskyi/deep-text-recognition-benchmark/blob/master/demo.ipynb\" target=\"_parent\"><img src=\"https://colab.research.google.com/assets/colab-badge.svg\" alt=\"Open In Colab\"/></a>"
      ]
    },
    {
      "cell_type": "markdown",
      "metadata": {
        "colab_type": "text",
        "id": "dHbHK60Tqn2c"
      },
      "source": [
        "This can be executed in https://colab.research.google.com \"Python 3 / GPU\" runtime."
      ]
    },
    {
      "cell_type": "code",
      "execution_count": null,
      "metadata": {
        "colab": {
          "base_uri": "https://localhost:8080/",
          "height": 153
        },
        "colab_type": "code",
        "id": "Pi-PA14AhdK-",
        "outputId": "5d620547-6ce9-42b9-8206-20f88f23e567"
      },
      "outputs": [],
      "source": [
        "!git clone https://github.com/clovaai/deep-text-recognition-benchmark\n",
        "%cd deep-text-recognition-benchmark"
      ]
    },
    {
      "cell_type": "markdown",
      "metadata": {
        "colab_type": "text",
        "id": "jX-ucvimlaFZ"
      },
      "source": [
        "Next, download large model files from Google Drive, using hack: https://stackoverflow.com/questions/20665881/direct-download-from-google-drive-using-google-drive-api/32742700#32742700"
      ]
    },
    {
      "cell_type": "code",
      "execution_count": null,
      "metadata": {
        "colab": {
          "base_uri": "https://localhost:8080/",
          "height": 833
        },
        "colab_type": "code",
        "id": "9eEhhPBshkjr",
        "outputId": "205d0bd8-340f-4e9b-ebfd-e9c8f7d327a0"
      },
      "outputs": [],
      "source": [
        "models = {\n",
        "    'None-ResNet-None-CTC.pth': 'https://drive.google.com/open?id=1FocnxQzFBIjDT2F9BkNUiLdo1cC3eaO0',\n",
        "    'None-VGG-BiLSTM-CTC.pth': 'https://drive.google.com/open?id=1GGC2IRYEMQviZhqQpbtpeTgHO_IXWetG',\n",
        "    'None-VGG-None-CTC.pth': 'https://drive.google.com/open?id=1FS3aZevvLiGF1PFBm5SkwvVcgI6hJWL9',\n",
        "    'TPS-ResNet-BiLSTM-Attn-case-sensitive.pth': 'https://drive.google.com/open?id=1ajONZOgiG9pEYsQ-eBmgkVbMDuHgPCaY',\n",
        "    'TPS-ResNet-BiLSTM-Attn.pth': 'https://drive.google.com/open?id=1b59rXuGGmKne1AuHnkgDzoYgKeETNMv9',\n",
        "    'TPS-ResNet-BiLSTM-CTC.pth': 'https://drive.google.com/open?id=1FocnxQzFBIjDT2F9BkNUiLdo1cC3eaO0',\n",
        "}\n",
        "\n",
        "for k, v in models.items():\n",
        "  doc_id = v[v.find('=')+1:]\n",
        "  !curl -c /tmp/cookies \"https://drive.google.com/uc?export=download&id=$doc_id\" > /tmp/intermezzo.html\n",
        "  !curl -L -b /tmp/cookies \"https://drive.google.com$(cat /tmp/intermezzo.html | grep -Po 'uc-download-link\" [^>]* href=\"\\K[^\"]*' | sed 's/\\&amp;/\\&/g')\" > $k\n",
        "\n",
        "!ls -al *.pth"
      ]
    },
    {
      "cell_type": "code",
      "execution_count": null,
      "metadata": {
        "colab": {},
        "colab_type": "code",
        "id": "s-E716WnhfrI"
      },
      "outputs": [],
      "source": [
        "output = !CUDA_VISIBLE_DEVICES=0 python3 demo.py \\\n",
        "--Transformation TPS --FeatureExtraction ResNet --SequenceModeling BiLSTM --Prediction Attn \\\n",
        "--image_folder demo_image/ \\\n",
        "--saved_model TPS-ResNet-BiLSTM-Attn.pth"
      ]
    },
    {
      "cell_type": "code",
      "execution_count": null,
      "metadata": {
        "colab": {
          "base_uri": "https://localhost:8080/",
          "height": 1000
        },
        "colab_type": "code",
        "id": "bJRPln2QlxlJ",
        "outputId": "a81e0b6b-8171-49a6-c59f-15649d7c6bb8"
      },
      "outputs": [],
      "source": [
        "from IPython.core.display import display, HTML\n",
        "from PIL import Image\n",
        "import base64\n",
        "import io\n",
        "import pandas as pd\n",
        "\n",
        "data = pd.DataFrame()\n",
        "for ind, row in enumerate(output[output.index('image_path               \\tpredicted_labels         \\tconfidence score')+2:]):\n",
        "  row = row.split('\\t')\n",
        "  filename = row[0].strip()\n",
        "  label = row[1].strip()\n",
        "  conf = row[2].strip()\n",
        "  img = Image.open(filename)\n",
        "  img_buffer = io.BytesIO()\n",
        "  img.save(img_buffer, format=\"PNG\")\n",
        "  imgStr = base64.b64encode(img_buffer.getvalue()).decode(\"utf-8\") \n",
        "\n",
        "  data.loc[ind, 'img'] = '<img src=\"data:image/png;base64,{0:s}\">'.format(imgStr)\n",
        "  data.loc[ind, 'id'] = filename\n",
        "  data.loc[ind, 'label'] = label\n",
        "  data.loc[ind, 'conf'] = conf\n",
        "\n",
        "html_all = data.to_html(escape=False)\n",
        "display(HTML(html_all))"
      ]
    }
  ],
  "metadata": {
    "accelerator": "GPU",
    "colab": {
      "collapsed_sections": [],
      "include_colab_link": true,
      "name": "deep-text-recognition-benchmark.ipynb",
      "provenance": []
    },
    "interpreter": {
      "hash": "9b35a05bccf52fea4dfdf800e1a1d334ba660a124202c43417415bebb83c0a10"
    },
    "kernelspec": {
      "display_name": "Python 3.9.7 64-bit",
      "name": "python3"
    },
    "language_info": {
      "codemirror_mode": {
        "name": "ipython",
        "version": 3
      },
      "file_extension": ".py",
      "mimetype": "text/x-python",
      "name": "python",
      "nbconvert_exporter": "python",
      "pygments_lexer": "ipython3",
      "version": "3.9.7"
    }
  },
  "nbformat": 4,
  "nbformat_minor": 0
}
